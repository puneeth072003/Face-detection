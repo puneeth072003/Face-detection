{
  "nbformat": 4,
  "nbformat_minor": 0,
  "metadata": {
    "colab": {
      "provenance": []
    },
    "kernelspec": {
      "name": "python3",
      "display_name": "Python 3"
    },
    "language_info": {
      "name": "python"
    }
  },
  "cells": [
    {
      "cell_type": "code",
      "execution_count": 1,
      "metadata": {
        "id": "3oYJUCtHMMMo"
      },
      "outputs": [],
      "source": [
        "from tensorflow.keras.models import Sequential\n",
        "from tensorflow.keras.layers import Conv2D, MaxPooling2D, Dropout, Flatten, Dense\n",
        "from tensorflow.keras.optimizers import Adam\n",
        "from tensorflow.keras.preprocessing.image import ImageDataGenerator\n",
        "import numpy as np\n",
        "import  matplotlib.pyplot as plt"
      ]
    },
    {
      "cell_type": "code",
      "source": [
        "from google.colab import drive          # this facilitates linking your colab with drive.\n",
        "drive.mount('/content/drive/')          # mounting the drive.\n"
      ],
      "metadata": {
        "colab": {
          "base_uri": "https://localhost:8080/"
        },
        "id": "74ulQp2aOF6S",
        "outputId": "da894d3e-7113-469a-83a4-067e79d49e5e"
      },
      "execution_count": 2,
      "outputs": [
        {
          "output_type": "stream",
          "name": "stdout",
          "text": [
            "Mounted at /content/drive/\n"
          ]
        }
      ]
    },
    {
      "cell_type": "code",
      "source": [
        "!unzip -uq \"/content/drive/MyDrive/project/face mask/archive\" -d \"/content/drive/MyDrive/project/face mask/archive\"       # to unzip the zip file consiting of data sets."
      ],
      "metadata": {
        "id": "7BiBUL0gXEJW"
      },
      "execution_count": 5,
      "outputs": []
    },
    {
      "cell_type": "code",
      "source": [
        "import os   # facilates working with paths and directories\n",
        "\n",
        "main_dir=\"/content/drive/MyDrive/project/face mask/archive/New Masks Dataset\"\n",
        "train_dir=os.path.join(main_dir,'Train')     # creating directories for all the different folders\n",
        "test_dir=os.path.join(main_dir,'Test')\n",
        "valid_dir=os.path.join(main_dir,'Validation')\n",
        "\n",
        "train_mask_dir=os.path.join(train_dir, 'Mask')        # this used to trsin the model order to train the model\n",
        "train_nomask_dir=os.path.join(train_dir, 'Non Mask')  \n"
      ],
      "metadata": {
        "id": "u9bXAykuc6Jk"
      },
      "execution_count": 13,
      "outputs": []
    },
    {
      "cell_type": "code",
      "source": [
        "print(train_mask_dir)          # just to confirm that everything is done right."
      ],
      "metadata": {
        "colab": {
          "base_uri": "https://localhost:8080/"
        },
        "id": "Ke1kDGyBehk8",
        "outputId": "b71d0f19-1964-4158-fe6f-96119e1a4e8b"
      },
      "execution_count": 8,
      "outputs": [
        {
          "output_type": "stream",
          "name": "stdout",
          "text": [
            "/content/drive/MyDrive/project/face mask/archive/New Masks Datasets/Train/Mask\n"
          ]
        }
      ]
    },
    {
      "cell_type": "code",
      "source": [
        "train_datagen=ImageDataGenerator(rescale=1./255,\n",
        "                                 zoom_range = 0.2,\n",
        "                                 rotation_range = 40,\n",
        "                                 horizontal_flip = True\n",
        "                                 )             # providing some data generator rules\n",
        "test_datagen=ImageDataGenerator(rescale=1./255) # not gonna use it for trainings\n",
        "valid_datagen=ImageDataGenerator(rescale=1./255) # same\n",
        "\n",
        "train_generator = train_datagen.flow_from_directory(train_dir,\n",
        "                                                    target_size=(150,150),\n",
        "                                                    batch_size=32,\n",
        "                                                    class_mode='binary'\n",
        "                                                  )   # based on provided set of rules we uniform all of the images in the folder\n",
        "test_generator = test_datagen.flow_from_directory(test_dir,\n",
        "                                              target_size=(150,150),\n",
        "                                              batch_size=32,       \n",
        "                                              class_mode='binary'\n",
        "                                            )\n",
        "valid_generator = valid_datagen.flow_from_directory(valid_dir,\n",
        "                             target_size=(150,150),\n",
        "                             batch_size=32,\n",
        "                             class_mode='binary'\n",
        "                             )"
      ],
      "metadata": {
        "colab": {
          "base_uri": "https://localhost:8080/"
        },
        "id": "aEbIkcp-gYNM",
        "outputId": "13b096b3-0b36-4687-ca0d-3737903dfa36"
      },
      "execution_count": 14,
      "outputs": [
        {
          "output_type": "stream",
          "name": "stdout",
          "text": [
            "Found 600 images belonging to 2 classes.\n",
            "Found 100 images belonging to 2 classes.\n",
            "Found 306 images belonging to 2 classes.\n"
          ]
        }
      ]
    },
    {
      "cell_type": "code",
      "source": [
        "train_generator.class_indices"
      ],
      "metadata": {
        "colab": {
          "base_uri": "https://localhost:8080/"
        },
        "id": "1AtHPEGeCOdQ",
        "outputId": "3141d2cf-c5cb-45f4-b4d3-54a5624e85e0"
      },
      "execution_count": 15,
      "outputs": [
        {
          "output_type": "execute_result",
          "data": {
            "text/plain": [
              "{'Mask': 0, 'Non Mask': 1}"
            ]
          },
          "metadata": {},
          "execution_count": 15
        }
      ]
    },
    {
      "cell_type": "code",
      "source": [
        "model = Sequential() # we need this model to image conversions\n",
        "\n",
        "model.add(Conv2D(32,(3,3),padding='SAME',activation='relu', input_shape=(150,150,3))) # \n",
        "model.add(MaxPooling2D(pool_size=(2,2)))\n",
        "model.add(Dropout (0.5))\n",
        "\n",
        "model.add(Conv2D(64, (3,3),padding='SAME', activation='relu'))\n",
        "model.add(MaxPooling2D(pool_size=(2,2))) \n",
        "model.add(Dropout (0.5))\n",
        "\n",
        "model.add(Flatten())\n",
        "\n",
        "model.add(Dense(256, activation='relu')) \n",
        "model.add(Dropout (0.5)) \n",
        "model.add(Dense(1,activation='sigmoid')) \n",
        "model.summary()"
      ],
      "metadata": {
        "colab": {
          "base_uri": "https://localhost:8080/"
        },
        "id": "F1EhFhs_CX5-",
        "outputId": "d4a79c09-d84e-468e-b3d5-5dbb686552ef"
      },
      "execution_count": 16,
      "outputs": [
        {
          "output_type": "stream",
          "name": "stdout",
          "text": [
            "Model: \"sequential\"\n",
            "_________________________________________________________________\n",
            " Layer (type)                Output Shape              Param #   \n",
            "=================================================================\n",
            " conv2d (Conv2D)             (None, 150, 150, 32)      896       \n",
            "                                                                 \n",
            " max_pooling2d (MaxPooling2D  (None, 75, 75, 32)       0         \n",
            " )                                                               \n",
            "                                                                 \n",
            " dropout (Dropout)           (None, 75, 75, 32)        0         \n",
            "                                                                 \n",
            " conv2d_1 (Conv2D)           (None, 75, 75, 64)        18496     \n",
            "                                                                 \n",
            " max_pooling2d_1 (MaxPooling  (None, 37, 37, 64)       0         \n",
            " 2D)                                                             \n",
            "                                                                 \n",
            " dropout_1 (Dropout)         (None, 37, 37, 64)        0         \n",
            "                                                                 \n",
            " flatten (Flatten)           (None, 87616)             0         \n",
            "                                                                 \n",
            " dense (Dense)               (None, 256)               22429952  \n",
            "                                                                 \n",
            " dropout_2 (Dropout)         (None, 256)               0         \n",
            "                                                                 \n",
            " dense_1 (Dense)             (None, 1)                 257       \n",
            "                                                                 \n",
            "=================================================================\n",
            "Total params: 22,449,601\n",
            "Trainable params: 22,449,601\n",
            "Non-trainable params: 0\n",
            "_________________________________________________________________\n"
          ]
        }
      ]
    },
    {
      "cell_type": "code",
      "source": [
        "model.compile(Adam(lr=0.001),loss='binary_crossentropy',metrics=['accuracy']) "
      ],
      "metadata": {
        "colab": {
          "base_uri": "https://localhost:8080/"
        },
        "id": "_EJBmtGqGBgx",
        "outputId": "b3454aa2-69ed-488c-f381-52ff9360f0e9"
      },
      "execution_count": 17,
      "outputs": [
        {
          "output_type": "stream",
          "name": "stderr",
          "text": [
            "/usr/local/lib/python3.8/dist-packages/keras/optimizers/optimizer_v2/adam.py:110: UserWarning: The `lr` argument is deprecated, use `learning_rate` instead.\n",
            "  super(Adam, self).__init__(name, **kwargs)\n"
          ]
        }
      ]
    },
    {
      "cell_type": "code",
      "source": [
        "history = model.fit(train_generator, # we are comparing this processed set of data to the validation data set\n",
        "                    epochs = 30, # epoches means periods or sessions\n",
        "                    validation_data= valid_generator) # basically it is where the model is trained to identify masked faces"
      ],
      "metadata": {
        "colab": {
          "base_uri": "https://localhost:8080/"
        },
        "id": "R6jH1HNNGtUv",
        "outputId": "d1202f40-bf43-4cef-e5fe-5160128417bf"
      },
      "execution_count": 18,
      "outputs": [
        {
          "output_type": "stream",
          "name": "stdout",
          "text": [
            "Epoch 1/30\n",
            "19/19 [==============================] - 59s 3s/step - loss: 2.7826 - accuracy: 0.4967 - val_loss: 0.6932 - val_accuracy: 0.5033\n",
            "Epoch 2/30\n",
            "19/19 [==============================] - 49s 3s/step - loss: 0.6776 - accuracy: 0.5667 - val_loss: 0.6842 - val_accuracy: 0.5000\n",
            "Epoch 3/30\n",
            "19/19 [==============================] - 50s 3s/step - loss: 0.5995 - accuracy: 0.6817 - val_loss: 0.5799 - val_accuracy: 0.6863\n",
            "Epoch 4/30\n",
            "19/19 [==============================] - 51s 3s/step - loss: 0.4208 - accuracy: 0.8333 - val_loss: 0.3515 - val_accuracy: 0.8954\n",
            "Epoch 5/30\n",
            "19/19 [==============================] - 56s 3s/step - loss: 0.2792 - accuracy: 0.9067 - val_loss: 0.3468 - val_accuracy: 0.8529\n",
            "Epoch 6/30\n",
            "19/19 [==============================] - 51s 3s/step - loss: 0.2665 - accuracy: 0.9033 - val_loss: 0.2826 - val_accuracy: 0.9118\n",
            "Epoch 7/30\n",
            "19/19 [==============================] - 48s 3s/step - loss: 0.2413 - accuracy: 0.9167 - val_loss: 0.3085 - val_accuracy: 0.9118\n",
            "Epoch 8/30\n",
            "19/19 [==============================] - 48s 3s/step - loss: 0.2197 - accuracy: 0.9300 - val_loss: 0.2878 - val_accuracy: 0.8922\n",
            "Epoch 9/30\n",
            "19/19 [==============================] - 48s 3s/step - loss: 0.2115 - accuracy: 0.9317 - val_loss: 0.2669 - val_accuracy: 0.9020\n",
            "Epoch 10/30\n",
            "19/19 [==============================] - 57s 3s/step - loss: 0.2090 - accuracy: 0.9250 - val_loss: 0.2840 - val_accuracy: 0.8987\n",
            "Epoch 11/30\n",
            "19/19 [==============================] - 48s 3s/step - loss: 0.2028 - accuracy: 0.9283 - val_loss: 0.2726 - val_accuracy: 0.8922\n",
            "Epoch 12/30\n",
            "19/19 [==============================] - 48s 3s/step - loss: 0.1970 - accuracy: 0.9350 - val_loss: 0.3163 - val_accuracy: 0.8627\n",
            "Epoch 13/30\n",
            "19/19 [==============================] - 49s 3s/step - loss: 0.2104 - accuracy: 0.9200 - val_loss: 0.3089 - val_accuracy: 0.8922\n",
            "Epoch 14/30\n",
            "19/19 [==============================] - 50s 3s/step - loss: 0.1847 - accuracy: 0.9400 - val_loss: 0.2544 - val_accuracy: 0.9052\n",
            "Epoch 15/30\n",
            "19/19 [==============================] - 48s 3s/step - loss: 0.2340 - accuracy: 0.9150 - val_loss: 0.2472 - val_accuracy: 0.9150\n",
            "Epoch 16/30\n",
            "19/19 [==============================] - 49s 3s/step - loss: 0.1827 - accuracy: 0.9400 - val_loss: 0.2732 - val_accuracy: 0.9020\n",
            "Epoch 17/30\n",
            "19/19 [==============================] - 48s 3s/step - loss: 0.1923 - accuracy: 0.9217 - val_loss: 0.2347 - val_accuracy: 0.9020\n",
            "Epoch 18/30\n",
            "19/19 [==============================] - 49s 3s/step - loss: 0.1811 - accuracy: 0.9383 - val_loss: 0.2481 - val_accuracy: 0.9118\n",
            "Epoch 19/30\n",
            "19/19 [==============================] - 56s 3s/step - loss: 0.1865 - accuracy: 0.9350 - val_loss: 0.2536 - val_accuracy: 0.9052\n",
            "Epoch 20/30\n",
            "19/19 [==============================] - 49s 3s/step - loss: 0.1795 - accuracy: 0.9417 - val_loss: 0.2421 - val_accuracy: 0.9118\n",
            "Epoch 21/30\n",
            "19/19 [==============================] - 49s 3s/step - loss: 0.1881 - accuracy: 0.9317 - val_loss: 0.2356 - val_accuracy: 0.9150\n",
            "Epoch 22/30\n",
            "19/19 [==============================] - 48s 3s/step - loss: 0.1715 - accuracy: 0.9333 - val_loss: 0.3537 - val_accuracy: 0.8333\n",
            "Epoch 23/30\n",
            "19/19 [==============================] - 48s 3s/step - loss: 0.1793 - accuracy: 0.9333 - val_loss: 0.2850 - val_accuracy: 0.8856\n",
            "Epoch 24/30\n",
            "19/19 [==============================] - 49s 3s/step - loss: 0.1634 - accuracy: 0.9450 - val_loss: 0.2638 - val_accuracy: 0.8889\n",
            "Epoch 25/30\n",
            "19/19 [==============================] - 50s 3s/step - loss: 0.1840 - accuracy: 0.9417 - val_loss: 0.2400 - val_accuracy: 0.9052\n",
            "Epoch 26/30\n",
            "19/19 [==============================] - 48s 3s/step - loss: 0.1670 - accuracy: 0.9400 - val_loss: 0.2228 - val_accuracy: 0.9183\n",
            "Epoch 27/30\n",
            "19/19 [==============================] - 48s 3s/step - loss: 0.1785 - accuracy: 0.9433 - val_loss: 0.2423 - val_accuracy: 0.9085\n",
            "Epoch 28/30\n",
            "19/19 [==============================] - 48s 3s/step - loss: 0.1513 - accuracy: 0.9467 - val_loss: 0.2261 - val_accuracy: 0.9085\n",
            "Epoch 29/30\n",
            "19/19 [==============================] - 59s 3s/step - loss: 0.1656 - accuracy: 0.9350 - val_loss: 0.2315 - val_accuracy: 0.9085\n",
            "Epoch 30/30\n",
            "19/19 [==============================] - 53s 3s/step - loss: 0.1576 - accuracy: 0.9350 - val_loss: 0.2229 - val_accuracy: 0.9085\n"
          ]
        }
      ]
    },
    {
      "cell_type": "code",
      "source": [
        "test_loss, test_acc = model.evaluate(test_generator)\n",
        "print('test aac :{} test loss:{}'.format(test_acc,test_loss))   #evaluating final accuracy and loss of the model"
      ],
      "metadata": {
        "colab": {
          "base_uri": "https://localhost:8080/"
        },
        "id": "lyjKbt8mIkPk",
        "outputId": "6d7dd98c-630a-4264-8605-842ee0c7446b"
      },
      "execution_count": 19,
      "outputs": [
        {
          "output_type": "stream",
          "name": "stdout",
          "text": [
            "4/4 [==============================] - 3s 482ms/step - loss: 0.1617 - accuracy: 0.9100\n",
            "test aac :0.9100000262260437 test loss:0.16165000200271606\n"
          ]
        }
      ]
    },
    {
      "cell_type": "code",
      "source": [
        "import numpy as np \n",
        "from google.colab import files \n",
        "import keras.utils as image\n",
        "\n",
        "uploaded=files.upload()    # in order upload the file\n",
        "#print (uploaded)\n",
        "for f in uploaded.keys():\n",
        "    img_path= '/content/'+f  # for every image, image path will be saved as img_path\n",
        "    img = image.load_img(img_path, target_size=(150,150)) \n",
        "    images=image.img_to_array(img) # this is used to convert into a numpy array\n",
        "    images=np.expand_dims(images,axis=0) # \n",
        "    prediction=model.predict(images)\n",
        "    if prediction==0:\n",
        "        print(f, 'mask is present')\n",
        "    else:\n",
        "        print(f,' no mask is present')"
      ],
      "metadata": {
        "colab": {
          "base_uri": "https://localhost:8080/",
          "height": 108
        },
        "id": "BbGa0WURO5C2",
        "outputId": "e7c59ba8-30d4-4204-b5d8-c34863e2bfe1"
      },
      "execution_count": 31,
      "outputs": [
        {
          "output_type": "display_data",
          "data": {
            "text/plain": [
              "<IPython.core.display.HTML object>"
            ],
            "text/html": [
              "\n",
              "     <input type=\"file\" id=\"files-e14254a5-abbb-4eb2-8fd2-37cfc331cb7e\" name=\"files[]\" multiple disabled\n",
              "        style=\"border:none\" />\n",
              "     <output id=\"result-e14254a5-abbb-4eb2-8fd2-37cfc331cb7e\">\n",
              "      Upload widget is only available when the cell has been executed in the\n",
              "      current browser session. Please rerun this cell to enable.\n",
              "      </output>\n",
              "      <script>// Copyright 2017 Google LLC\n",
              "//\n",
              "// Licensed under the Apache License, Version 2.0 (the \"License\");\n",
              "// you may not use this file except in compliance with the License.\n",
              "// You may obtain a copy of the License at\n",
              "//\n",
              "//      http://www.apache.org/licenses/LICENSE-2.0\n",
              "//\n",
              "// Unless required by applicable law or agreed to in writing, software\n",
              "// distributed under the License is distributed on an \"AS IS\" BASIS,\n",
              "// WITHOUT WARRANTIES OR CONDITIONS OF ANY KIND, either express or implied.\n",
              "// See the License for the specific language governing permissions and\n",
              "// limitations under the License.\n",
              "\n",
              "/**\n",
              " * @fileoverview Helpers for google.colab Python module.\n",
              " */\n",
              "(function(scope) {\n",
              "function span(text, styleAttributes = {}) {\n",
              "  const element = document.createElement('span');\n",
              "  element.textContent = text;\n",
              "  for (const key of Object.keys(styleAttributes)) {\n",
              "    element.style[key] = styleAttributes[key];\n",
              "  }\n",
              "  return element;\n",
              "}\n",
              "\n",
              "// Max number of bytes which will be uploaded at a time.\n",
              "const MAX_PAYLOAD_SIZE = 100 * 1024;\n",
              "\n",
              "function _uploadFiles(inputId, outputId) {\n",
              "  const steps = uploadFilesStep(inputId, outputId);\n",
              "  const outputElement = document.getElementById(outputId);\n",
              "  // Cache steps on the outputElement to make it available for the next call\n",
              "  // to uploadFilesContinue from Python.\n",
              "  outputElement.steps = steps;\n",
              "\n",
              "  return _uploadFilesContinue(outputId);\n",
              "}\n",
              "\n",
              "// This is roughly an async generator (not supported in the browser yet),\n",
              "// where there are multiple asynchronous steps and the Python side is going\n",
              "// to poll for completion of each step.\n",
              "// This uses a Promise to block the python side on completion of each step,\n",
              "// then passes the result of the previous step as the input to the next step.\n",
              "function _uploadFilesContinue(outputId) {\n",
              "  const outputElement = document.getElementById(outputId);\n",
              "  const steps = outputElement.steps;\n",
              "\n",
              "  const next = steps.next(outputElement.lastPromiseValue);\n",
              "  return Promise.resolve(next.value.promise).then((value) => {\n",
              "    // Cache the last promise value to make it available to the next\n",
              "    // step of the generator.\n",
              "    outputElement.lastPromiseValue = value;\n",
              "    return next.value.response;\n",
              "  });\n",
              "}\n",
              "\n",
              "/**\n",
              " * Generator function which is called between each async step of the upload\n",
              " * process.\n",
              " * @param {string} inputId Element ID of the input file picker element.\n",
              " * @param {string} outputId Element ID of the output display.\n",
              " * @return {!Iterable<!Object>} Iterable of next steps.\n",
              " */\n",
              "function* uploadFilesStep(inputId, outputId) {\n",
              "  const inputElement = document.getElementById(inputId);\n",
              "  inputElement.disabled = false;\n",
              "\n",
              "  const outputElement = document.getElementById(outputId);\n",
              "  outputElement.innerHTML = '';\n",
              "\n",
              "  const pickedPromise = new Promise((resolve) => {\n",
              "    inputElement.addEventListener('change', (e) => {\n",
              "      resolve(e.target.files);\n",
              "    });\n",
              "  });\n",
              "\n",
              "  const cancel = document.createElement('button');\n",
              "  inputElement.parentElement.appendChild(cancel);\n",
              "  cancel.textContent = 'Cancel upload';\n",
              "  const cancelPromise = new Promise((resolve) => {\n",
              "    cancel.onclick = () => {\n",
              "      resolve(null);\n",
              "    };\n",
              "  });\n",
              "\n",
              "  // Wait for the user to pick the files.\n",
              "  const files = yield {\n",
              "    promise: Promise.race([pickedPromise, cancelPromise]),\n",
              "    response: {\n",
              "      action: 'starting',\n",
              "    }\n",
              "  };\n",
              "\n",
              "  cancel.remove();\n",
              "\n",
              "  // Disable the input element since further picks are not allowed.\n",
              "  inputElement.disabled = true;\n",
              "\n",
              "  if (!files) {\n",
              "    return {\n",
              "      response: {\n",
              "        action: 'complete',\n",
              "      }\n",
              "    };\n",
              "  }\n",
              "\n",
              "  for (const file of files) {\n",
              "    const li = document.createElement('li');\n",
              "    li.append(span(file.name, {fontWeight: 'bold'}));\n",
              "    li.append(span(\n",
              "        `(${file.type || 'n/a'}) - ${file.size} bytes, ` +\n",
              "        `last modified: ${\n",
              "            file.lastModifiedDate ? file.lastModifiedDate.toLocaleDateString() :\n",
              "                                    'n/a'} - `));\n",
              "    const percent = span('0% done');\n",
              "    li.appendChild(percent);\n",
              "\n",
              "    outputElement.appendChild(li);\n",
              "\n",
              "    const fileDataPromise = new Promise((resolve) => {\n",
              "      const reader = new FileReader();\n",
              "      reader.onload = (e) => {\n",
              "        resolve(e.target.result);\n",
              "      };\n",
              "      reader.readAsArrayBuffer(file);\n",
              "    });\n",
              "    // Wait for the data to be ready.\n",
              "    let fileData = yield {\n",
              "      promise: fileDataPromise,\n",
              "      response: {\n",
              "        action: 'continue',\n",
              "      }\n",
              "    };\n",
              "\n",
              "    // Use a chunked sending to avoid message size limits. See b/62115660.\n",
              "    let position = 0;\n",
              "    do {\n",
              "      const length = Math.min(fileData.byteLength - position, MAX_PAYLOAD_SIZE);\n",
              "      const chunk = new Uint8Array(fileData, position, length);\n",
              "      position += length;\n",
              "\n",
              "      const base64 = btoa(String.fromCharCode.apply(null, chunk));\n",
              "      yield {\n",
              "        response: {\n",
              "          action: 'append',\n",
              "          file: file.name,\n",
              "          data: base64,\n",
              "        },\n",
              "      };\n",
              "\n",
              "      let percentDone = fileData.byteLength === 0 ?\n",
              "          100 :\n",
              "          Math.round((position / fileData.byteLength) * 100);\n",
              "      percent.textContent = `${percentDone}% done`;\n",
              "\n",
              "    } while (position < fileData.byteLength);\n",
              "  }\n",
              "\n",
              "  // All done.\n",
              "  yield {\n",
              "    response: {\n",
              "      action: 'complete',\n",
              "    }\n",
              "  };\n",
              "}\n",
              "\n",
              "scope.google = scope.google || {};\n",
              "scope.google.colab = scope.google.colab || {};\n",
              "scope.google.colab._files = {\n",
              "  _uploadFiles,\n",
              "  _uploadFilesContinue,\n",
              "};\n",
              "})(self);\n",
              "</script> "
            ]
          },
          "metadata": {}
        },
        {
          "output_type": "stream",
          "name": "stdout",
          "text": [
            "Saving 2655.png to 2655 (1).png\n",
            "1/1 [==============================] - 0s 55ms/step\n",
            "2655.png mask is present\n"
          ]
        }
      ]
    },
    {
      "cell_type": "code",
      "source": [
        "model.save('latestmodel.h5')"
      ],
      "metadata": {
        "id": "pUy5-ttlVJB6"
      },
      "execution_count": 32,
      "outputs": []
    }
  ]
}